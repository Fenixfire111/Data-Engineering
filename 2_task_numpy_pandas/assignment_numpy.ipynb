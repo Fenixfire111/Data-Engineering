{
 "cells": [
  {
   "cell_type": "markdown",
   "id": "d3df79dd",
   "metadata": {},
   "source": [
    "## Упражнения по библиотеке Numpy"
   ]
  },
  {
   "cell_type": "code",
   "execution_count": 2,
   "id": "76b9c43b",
   "metadata": {},
   "outputs": [],
   "source": [
    "import numpy as np"
   ]
  },
  {
   "cell_type": "markdown",
   "id": "03727b7c",
   "metadata": {},
   "source": [
    "**1.** Дан случайный массив, поменять знак у элементов, значения которых между 3 и 8"
   ]
  },
  {
   "cell_type": "code",
   "execution_count": 150,
   "id": "b89a7523",
   "metadata": {},
   "outputs": [
    {
     "name": "stdout",
     "output_type": "stream",
     "text": [
      "[2 3 9 1 2 8 3 5 9 6 9 5 7 5 4 8 2 5 8 9]\n",
      "[ 2  3  9  1  2  8  3 -5  9 -6  9 -5 -7 -5 -4  8  2 -5  8  9]\n"
     ]
    }
   ],
   "source": [
    "array = np.random.randint(1, 10, 20)\n",
    "print(array)\n",
    "result = np.where(np.logical_and(array > 3, array < 8), -array, array)\n",
    "print(result)"
   ]
  },
  {
   "cell_type": "markdown",
   "id": "5fa4abda",
   "metadata": {},
   "source": [
    "**2.** Заменить максимальный элемент случайного массива на 0"
   ]
  },
  {
   "cell_type": "code",
   "execution_count": 90,
   "id": "f2788a6e",
   "metadata": {},
   "outputs": [
    {
     "name": "stdout",
     "output_type": "stream",
     "text": [
      "[6 3 6 2 4 3 4 9 1 4 9 4 1 3 8 2 6 3 2 3]\n",
      "[6 3 6 2 4 3 4 0 1 4 0 4 1 3 8 2 6 3 2 3]\n"
     ]
    }
   ],
   "source": [
    "print(array)\n",
    "result = np.where(array == array.max(), 0, array)\n",
    "print(result)\n",
    "matrix = np.random.randint(1, 10, (5,5))"
   ]
  },
  {
   "cell_type": "markdown",
   "id": "3cac656b",
   "metadata": {},
   "source": [
    "**3.** Построить прямое произведение массивов (все комбинации с каждым элементом). На вход подается двумерный массив"
   ]
  },
  {
   "cell_type": "code",
   "execution_count": 107,
   "id": "8168f83a",
   "metadata": {},
   "outputs": [
    {
     "name": "stdout",
     "output_type": "stream",
     "text": [
      "[[1 4 6]\n",
      " [1 4 7]\n",
      " [1 5 6]\n",
      " [1 5 7]\n",
      " [2 4 6]\n",
      " [2 4 7]\n",
      " [2 5 6]\n",
      " [2 5 7]\n",
      " [3 4 6]\n",
      " [3 4 7]\n",
      " [3 5 6]\n",
      " [3 5 7]]\n"
     ]
    }
   ],
   "source": [
    "def cartesian(arrays):\n",
    "    arrays = [np.asarray(a) for a in arrays]\n",
    "    shape = map(len, arrays)\n",
    "\n",
    "    ix = np.indices(shape, dtype=int)\n",
    "    ix = ix.reshape(len(arrays), -1).T\n",
    "\n",
    "    for n, arr in enumerate(arrays):\n",
    "        ix[:, n] = arrays[n][ix[:, n]]\n",
    "\n",
    "    return ix\n",
    "\n",
    "print(cartesian(([1, 2, 3], [4, 5], [6, 7])))"
   ]
  },
  {
   "cell_type": "markdown",
   "id": "674c9354",
   "metadata": {},
   "source": [
    "**4.** Даны 2 массива A (8x3) и B (2x2). Найти строки в A, которые содержат элементы из каждой строки в B, независимо от порядка элементов в B"
   ]
  },
  {
   "cell_type": "code",
   "execution_count": 145,
   "id": "cb664782",
   "metadata": {},
   "outputs": [
    {
     "name": "stdout",
     "output_type": "stream",
     "text": [
      "[[2 4 4]\n",
      " [0 4 4]\n",
      " [0 0 1]\n",
      " [4 1 4]\n",
      " [2 1 4]\n",
      " [3 0 1]\n",
      " [4 0 0]\n",
      " [1 3 1]]\n",
      "[[1 3]\n",
      " [4 1]]\n",
      "[2 3 4 5 7]\n"
     ]
    }
   ],
   "source": [
    "A = np.random.randint(0,5,(8,3))\n",
    "print(A)\n",
    "B = np.random.randint(0,5,(2,2))\n",
    "print(B)\n",
    "\n",
    "L1 = np.where(np.reshape(np.in1d(A, B[0]), (8,3)).sum(axis=1), True, False)\n",
    "L2 = np.where(np.reshape(np.in1d(A, B[1]), (8,3)).sum(axis=1), True, False)\n",
    "lines = (L1 * L2 == True).nonzero()[0]\n",
    "print(lines)"
   ]
  },
  {
   "cell_type": "markdown",
   "id": "fa46533b",
   "metadata": {},
   "source": [
    "**5.** Дана 10x3 матрица, найти строки из неравных значений (например строка [2,2,3] остается, строка [3,3,3] удаляется)"
   ]
  },
  {
   "cell_type": "code",
   "execution_count": 157,
   "id": "fa545b23",
   "metadata": {},
   "outputs": [
    {
     "name": "stdout",
     "output_type": "stream",
     "text": [
      "[[1 2 3]\n",
      " [1 4 4]\n",
      " [3 3 3]\n",
      " [1 2 2]\n",
      " [4 1 0]\n",
      " [3 4 0]\n",
      " [3 0 4]\n",
      " [4 3 0]\n",
      " [3 4 1]\n",
      " [2 2 2]]\n",
      "[[1 2 3]\n",
      " [1 4 4]\n",
      " [1 2 2]\n",
      " [4 1 0]\n",
      " [3 4 0]\n",
      " [3 0 4]\n",
      " [4 3 0]\n",
      " [3 4 1]]\n"
     ]
    }
   ],
   "source": [
    "Z = np.random.randint(0,5,(10,3))\n",
    "E = np.logical_and.reduce(Z[:,1:] == Z[:,:-1], axis=1)\n",
    "U = Z[~E]\n",
    "print(Z)\n",
    "print(U)"
   ]
  },
  {
   "cell_type": "markdown",
   "id": "28f0d116",
   "metadata": {},
   "source": [
    "**6.** Дан двумерный массив. Удалить те строки, которые повторяются"
   ]
  },
  {
   "cell_type": "code",
   "execution_count": 4,
   "id": "83d2c0b7",
   "metadata": {},
   "outputs": [
    {
     "name": "stdout",
     "output_type": "stream",
     "text": [
      "[[4 1 3]\n",
      " [4 1 4]\n",
      " [4 3 2]\n",
      " [3 4 1]\n",
      " [2 3 2]\n",
      " [3 1 2]\n",
      " [2 3 1]\n",
      " [1 2 2]\n",
      " [3 1 2]\n",
      " [1 2 4]]\n",
      "[[1 2 2]\n",
      " [1 2 4]\n",
      " [2 3 1]\n",
      " [2 3 2]\n",
      " [3 1 2]\n",
      " [3 4 1]\n",
      " [4 1 3]\n",
      " [4 1 4]\n",
      " [4 3 2]]\n"
     ]
    }
   ],
   "source": [
    "matrix = np.random.randint(1, 5, (10,3))\n",
    "print(matrix)\n",
    "matrix = np.unique(matrix, axis=0)\n",
    "print(matrix)"
   ]
  },
  {
   "cell_type": "markdown",
   "id": "6daa9e37",
   "metadata": {},
   "source": [
    "______\n",
    "______"
   ]
  },
  {
   "cell_type": "markdown",
   "id": "cfbfcaff",
   "metadata": {},
   "source": [
    "Для каждой из следующих задач (1-5) нужно привести 2 реализации – одна без использования numpy (cчитайте, что там, где на входе или выходе должны быть numpy array, будут просто списки), а вторая полностью векторизованная с использованием numpy (без использования питоновских циклов/map/list comprehension).\n",
    "\n",
    "\n",
    "__Замечание 1.__ Можно считать, что все указанные объекты непустые (к примеру, в __задаче 1__ на диагонали матрицы есть ненулевые элементы).\n",
    "\n",
    "__Замечание 2.__ Для большинства задач решение занимает не больше 1-2 строк."
   ]
  },
  {
   "cell_type": "markdown",
   "id": "673cac7f",
   "metadata": {},
   "source": [
    "___"
   ]
  },
  {
   "cell_type": "markdown",
   "id": "ca6f585e",
   "metadata": {},
   "source": [
    "* __Задача 1__: Подсчитать произведение ненулевых элементов на диагонали прямоугольной матрицы.  \n",
    " Например, для X = np.array([[1, 0, 1], [2, 0, 2], [3, 0, 3], [4, 4, 4]]) ответ 3."
   ]
  },
  {
   "cell_type": "code",
   "execution_count": 59,
   "id": "065862fc",
   "metadata": {},
   "outputs": [
    {
     "name": "stdout",
     "output_type": "stream",
     "text": [
      "[[1, 4, 3], [3, 2, 2], [5, 3, 5], [2, 5, 4]]\n",
      "10\n",
      "[[2 4 1 3]\n",
      " [3 4 2 1]\n",
      " [2 2 3 4]\n",
      " [1 1 3 4]\n",
      " [3 1 3 2]]\n",
      "96\n"
     ]
    }
   ],
   "source": [
    "# without numpy\n",
    "import random\n",
    "matrix = [[random.randint(1, 5) for j in range(3)] for i in range(4)]\n",
    "print(matrix)\n",
    "result = 1\n",
    "for i in range(min(len(matrix),len(matrix[0]))):\n",
    "    if matrix[i][i] != 0:\n",
    "        result *= matrix[i][i]\n",
    "print(result)\n",
    "# numpy\n",
    "matrix = np.random.randint(1, 5, (5,4))\n",
    "print(matrix)\n",
    "result = np.prod(np.diag(matrix)[np.diag(matrix).nonzero()[0]])\n",
    "print(result)\n",
    "\n"
   ]
  },
  {
   "cell_type": "markdown",
   "id": "9fc51d41",
   "metadata": {},
   "source": [
    "* __Задача 2__: Даны два вектора x и y. Проверить, задают ли они одно и то же мультимножество.  \n",
    "  Например, для x = np.array([1, 2, 2, 4]), y = np.array([4, 2, 1, 2]) ответ True."
   ]
  },
  {
   "cell_type": "code",
   "execution_count": 171,
   "id": "a809e02f",
   "metadata": {},
   "outputs": [
    {
     "name": "stdout",
     "output_type": "stream",
     "text": [
      "[1, 0, 0, 1]\n",
      "[3, 0, 1, 3]\n",
      "False\n",
      "[1 1 1 0]\n",
      "[0 0 2 0]\n",
      "False\n"
     ]
    }
   ],
   "source": [
    "# without numpy\n",
    "import random\n",
    "x = [random.randint(0, 3) for i in range(4)]\n",
    "print(x)\n",
    "y = [random.randint(0, 3) for i in range(4)]\n",
    "print(y)\n",
    "print(sorted(x)==sorted(y))\n",
    "\n",
    "# numpy\n",
    "condition = True\n",
    "x = np.random.randint(0, 3, 4)\n",
    "print(x)\n",
    "y = np.random.randint(0, 3, 4)\n",
    "print(y)\n",
    "x_val, x_count = np.unique(x, return_counts=True)\n",
    "y_val, y_count = np.unique(y, return_counts=True)\n",
    "if np.array_equal(x_val, y_val):\n",
    "    if not np.array_equal(x_count, y_count):\n",
    "        condition = False\n",
    "else:\n",
    "    condition = False\n",
    "print(condition)"
   ]
  },
  {
   "cell_type": "markdown",
   "id": "b9c185c7",
   "metadata": {},
   "source": [
    "* __Задача 3__: Найти максимальный элемент в векторе x среди элементов, перед которыми стоит ноль. \n",
    " Например, для x = np.array([6, 2, 0, 3, 0, 0, 5, 7, 0]) ответ 5."
   ]
  },
  {
   "cell_type": "code",
   "execution_count": 328,
   "id": "b57df008",
   "metadata": {},
   "outputs": [
    {
     "name": "stdout",
     "output_type": "stream",
     "text": [
      "[4, 5, 4, 4, 4, 4, 0, 2, 4, 1]\n",
      "2\n",
      "[4 4 4 3 3 1 4 4 4 1]\n",
      "no such element\n"
     ]
    }
   ],
   "source": [
    "# without numpy\n",
    "max = 0\n",
    "x = [random.randint(0, 5) for i in range(10)]\n",
    "print(x)\n",
    "for i in range(1,10):\n",
    "    if x[i-1] == 0:\n",
    "        if max < x[i]:\n",
    "            max = x[i]\n",
    "print(max)\n",
    "\n",
    "# numpy\n",
    "x = np.random.randint(0, 5, 10)\n",
    "print(x)\n",
    "try:\n",
    "    max = np.max(x[(x[0:-1] == 0).nonzero()[0]+1]) \n",
    "except ValueError:\n",
    "    max = 'no such element'\n",
    "    \n",
    "print(max)"
   ]
  },
  {
   "cell_type": "markdown",
   "id": "480be4ce",
   "metadata": {},
   "source": [
    "* __Задача 4__: Реализовать кодирование длин серий (Run-length encoding). Для некоторого вектора x необходимо вернуть кортеж из двух векторов одинаковой длины. Первый содержит числа, а второй - сколько раз их нужно повторить.  \n",
    " Например, для x = np.array([2, 2, 2, 3, 3, 3, 5]) ответ (np.array([2, 3, 5]), np.array([3, 3, 1]))."
   ]
  },
  {
   "cell_type": "code",
   "execution_count": 336,
   "id": "3c592124",
   "metadata": {},
   "outputs": [
    {
     "name": "stdout",
     "output_type": "stream",
     "text": [
      "[4, 9, 1, 4, 5, 1, 5, 7, 0, 5]\n",
      "[4, 9, 1, 5, 7, 0]\n",
      "[2, 1, 2, 3, 1, 1]\n",
      "[5 2 7 7 4 6 0 1 1 7]\n",
      "[0 1 2 4 5 6 7]\n",
      "[1 2 1 1 1 1 3]\n"
     ]
    }
   ],
   "source": [
    "# without numpy\n",
    "x = [random.randint(0, 9) for i in range(10)]\n",
    "print(x)\n",
    "count = [0 for i in range(10)]\n",
    "for i in range(10):\n",
    "    count[x[i]] += 1\n",
    "result_val = []\n",
    "result_count = []\n",
    "for i in range(10):\n",
    "    if count[x[i]] != 0:\n",
    "        if not x[i] in result_val:\n",
    "            result_val.append(x[i])\n",
    "            result_count.append(count[x[i]])\n",
    "print(result_val)\n",
    "print(result_count)\n",
    "\n",
    "# numpy\n",
    "x = np.random.randint(0, 9, 10)\n",
    "print(x)\n",
    "x_val, x_count = np.unique(x, return_counts=True)\n",
    "print(x_val)\n",
    "print(x_count)"
   ]
  },
  {
   "cell_type": "markdown",
   "id": "077532ec",
   "metadata": {},
   "source": [
    "* __Задача 5__: Даны две выборки объектов - X и Y. Вычислить матрицу евклидовых расстояний между объектами. Сравните с функцией scipy.spatial.distance.cdist по скорости работы."
   ]
  },
  {
   "cell_type": "code",
   "execution_count": 4,
   "id": "1e807797",
   "metadata": {},
   "outputs": [
    {
     "name": "stdout",
     "output_type": "stream",
     "text": [
      "[[8 3 5]\n",
      " [2 4 2]\n",
      " [2 5 2]]\n",
      "[[4 4 4]\n",
      " [5 5 4]\n",
      " [0 6 5]]\n",
      "[[4.24264069 3.74165739 8.54400375]\n",
      " [2.82842712 3.74165739 4.12310563]\n",
      " [3.         3.60555128 3.74165739]]\n",
      "[[4.24264069 3.74165739 8.54400375]\n",
      " [2.82842712 3.74165739 4.12310563]\n",
      " [3.         3.60555128 3.74165739]]\n"
     ]
    }
   ],
   "source": [
    "X = np.random.randint(0, 10, (3, 3))\n",
    "print(X)\n",
    "Y = np.random.randint(0, 10, (3, 3))\n",
    "print(Y)\n",
    "\n",
    "#without numpy\n",
    "import scipy\n",
    "print(scipy.spatial.distance.cdist(X, Y)) #быстрее\n",
    "#numpy\n",
    "P = np.add.outer(np.sum(X**2, axis=1), np.sum(Y**2, axis=1))\n",
    "N = np.dot(X, Y.T)\n",
    "print(np.sqrt(P - 2*N))"
   ]
  },
  {
   "cell_type": "markdown",
   "id": "973e8064",
   "metadata": {},
   "source": [
    "_______\n",
    "________"
   ]
  },
  {
   "cell_type": "markdown",
   "id": "1104acb7",
   "metadata": {},
   "source": [
    "* #### __Задача 6__: CrunchieMunchies __*__\n",
    "\n",
    "Вы работаете в отделе маркетинга пищевой компании MyCrunch, которая разрабатывает новый вид вкусных, полезных злаков под названием **CrunchieMunchies**.\n",
    "\n",
    "Вы хотите продемонстрировать потребителям, насколько полезны ваши хлопья по сравнению с другими ведущими брендами, поэтому вы собрали данные о питании нескольких разных конкурентов.\n",
    "\n",
    "Ваша задача - использовать вычисления Numpy для анализа этих данных и доказать, что ваши **СrunchieMunchies** - самый здоровый выбор для потребителей.\n"
   ]
  },
  {
   "cell_type": "code",
   "execution_count": 77,
   "id": "10a77f8d",
   "metadata": {},
   "outputs": [],
   "source": [
    "import numpy as np"
   ]
  },
  {
   "cell_type": "markdown",
   "id": "ab87cb03",
   "metadata": {},
   "source": [
    "1. Просмотрите файл cereal.csv. Этот файл содержит количества калорий для различных марок хлопьев. Загрузите данные из файла и сохраните их как calorie_stats."
   ]
  },
  {
   "cell_type": "code",
   "execution_count": 5,
   "id": "9681ebf2",
   "metadata": {},
   "outputs": [
    {
     "data": {
      "text/plain": [
       "array([ 70., 120.,  70.,  50., 110., 110., 110., 130.,  90.,  90., 120.,\n",
       "       110., 120., 110., 110., 110., 100., 110., 110., 110., 100., 110.,\n",
       "       100., 100., 110., 110., 100., 120., 120., 110., 100., 110., 100.,\n",
       "       110., 120., 120., 110., 110., 110., 140., 110., 100., 110., 100.,\n",
       "       150., 150., 160., 100., 120., 140.,  90., 130., 120., 100.,  50.,\n",
       "        50., 100., 100., 120., 100.,  90., 110., 110.,  80.,  90.,  90.,\n",
       "       110., 110.,  90., 110., 140., 100., 110., 110., 100., 100., 110.])"
      ]
     },
     "execution_count": 5,
     "metadata": {},
     "output_type": "execute_result"
    }
   ],
   "source": [
    "calorie_stats = np.loadtxt(\"./data/cereal.csv\", delimiter=\",\")\n",
    "calorie_stats"
   ]
  },
  {
   "cell_type": "markdown",
   "id": "139cfbd8",
   "metadata": {},
   "source": [
    "2. В одной порции CrunchieMunchies содержится 60 калорий. Насколько выше среднее количество калорий у ваших конкурентов?\n",
    "\n",
    "Сохраните ответ в переменной average_calories и распечатайте переменную в терминале"
   ]
  },
  {
   "cell_type": "code",
   "execution_count": 7,
   "id": "7036d240",
   "metadata": {},
   "outputs": [
    {
     "data": {
      "text/plain": [
       "106.88311688311688"
      ]
     },
     "execution_count": 7,
     "metadata": {},
     "output_type": "execute_result"
    }
   ],
   "source": [
    "average_calories = np.mean(calorie_stats)\n",
    "average_calories"
   ]
  },
  {
   "cell_type": "markdown",
   "id": "b2ddb4cd",
   "metadata": {},
   "source": [
    "3. Корректно ли среднее количество калорий отражает распределение набора данных? Давайте отсортируем данные и посмотрим.\n",
    "\n",
    "Отсортируйте данные и сохраните результат в переменной calorie_stats_sorted. Распечатайте отсортированную информацию"
   ]
  },
  {
   "cell_type": "code",
   "execution_count": 9,
   "id": "46eeb4ed",
   "metadata": {},
   "outputs": [
    {
     "data": {
      "text/plain": [
       "array([ 50.,  50.,  50.,  70.,  70.,  80.,  90.,  90.,  90.,  90.,  90.,\n",
       "        90.,  90., 100., 100., 100., 100., 100., 100., 100., 100., 100.,\n",
       "       100., 100., 100., 100., 100., 100., 100., 100., 110., 110., 110.,\n",
       "       110., 110., 110., 110., 110., 110., 110., 110., 110., 110., 110.,\n",
       "       110., 110., 110., 110., 110., 110., 110., 110., 110., 110., 110.,\n",
       "       110., 110., 110., 110., 120., 120., 120., 120., 120., 120., 120.,\n",
       "       120., 120., 120., 130., 130., 140., 140., 140., 150., 150., 160.])"
      ]
     },
     "execution_count": 9,
     "metadata": {},
     "output_type": "execute_result"
    }
   ],
   "source": [
    "calorie_stats_sorted = np.sort(calorie_stats)\n",
    "calorie_stats_sorted"
   ]
  },
  {
   "cell_type": "markdown",
   "id": "4dc74116",
   "metadata": {},
   "source": [
    "4. Похоже, что большинство значений выше среднего. Давайте посмотрим, является ли медиана наиболее корректным показателем набора данных.\n",
    "\n",
    "Вычислите медиану набора данных и сохраните свой ответ в median_calories. Выведите медиану, чтобы вы могли видеть, как она сравнивается со средним значением."
   ]
  },
  {
   "cell_type": "code",
   "execution_count": 10,
   "id": "b56627c3",
   "metadata": {},
   "outputs": [
    {
     "data": {
      "text/plain": [
       "110.0"
      ]
     },
     "execution_count": 10,
     "metadata": {},
     "output_type": "execute_result"
    }
   ],
   "source": [
    "median_calories = np.median(calorie_stats)\n",
    "median_calories"
   ]
  },
  {
   "cell_type": "markdown",
   "id": "a63ab72f",
   "metadata": {},
   "source": [
    "5. В то время как медиана показывает, что по крайней мере половина наших значений составляет более 100 калорий, было бы более впечатляюще показать, что значительная часть конкурентов имеет более высокое количество калорий, чем CrunchieMunchies.\n",
    "\n",
    "Рассчитайте различные процентили и распечатайте их, пока не найдете наименьший процентиль, превышающий 60 калорий. Сохраните это значение в переменной nth_percentile."
   ]
  },
  {
   "cell_type": "code",
   "execution_count": 21,
   "id": "fe80ce03",
   "metadata": {},
   "outputs": [
    {
     "name": "stdout",
     "output_type": "stream",
     "text": [
      "100.0\n",
      "90.0\n",
      "70.0\n",
      "55.599999999999994\n"
     ]
    },
    {
     "data": {
      "text/plain": [
       "70.0"
      ]
     },
     "execution_count": 21,
     "metadata": {},
     "output_type": "execute_result"
    }
   ],
   "source": [
    "nth_percentile = np.percentile(calorie_stats,25)\n",
    "print(nth_percentile)\n",
    "nth_percentile = np.percentile(calorie_stats,10)\n",
    "print(nth_percentile)\n",
    "nth_percentile = np.percentile(calorie_stats,5)\n",
    "print(nth_percentile)\n",
    "nth_percentile = np.percentile(calorie_stats,3)\n",
    "print(nth_percentile)\n",
    "nth_percentile = np.percentile(calorie_stats,4)\n",
    "nth_percentile"
   ]
  },
  {
   "cell_type": "markdown",
   "id": "a2a3c5aa",
   "metadata": {},
   "source": [
    "6. Хотя процентиль показывает нам, что у большинства конкурентов количество калорий намного выше, это неудобная концепция для использования в маркетинговых материалах.\n",
    "\n",
    "Вместо этого давайте подсчитаем процент хлопьев, в которых содержится более 60 калорий на порцию. Сохраните свой ответ в переменной more_calories и распечатайте его"
   ]
  },
  {
   "cell_type": "code",
   "execution_count": 22,
   "id": "ade0f6ea",
   "metadata": {},
   "outputs": [
    {
     "data": {
      "text/plain": [
       "96.1038961038961"
      ]
     },
     "execution_count": 22,
     "metadata": {},
     "output_type": "execute_result"
    }
   ],
   "source": [
    "more_60_flakes = np.sum(calorie_stats > 60)\n",
    "all_flakes = len(calorie_stats)\n",
    "more_calories = more_60_flakes/all_flakes*100\n",
    "more_calories"
   ]
  },
  {
   "cell_type": "markdown",
   "id": "1735d65b",
   "metadata": {},
   "source": [
    "7. Это действительно высокий процент. Это будет очень полезно, когда мы будем продвигать CrunchieMunchies. Но один вопрос заключается в том, насколько велики различия в наборе данных? Можем ли мы сделать обобщение, что в большинстве злаков содержится около 100 калорий или разброс еще больше?\n",
    "\n",
    "Рассчитайте величину отклонения, найдя стандартное отклонение, Сохраните свой ответ в calorie_std и распечатайте на терминале. Как мы можем включить эту ценность в наш анализ?"
   ]
  },
  {
   "cell_type": "code",
   "execution_count": 23,
   "id": "85c8df1f",
   "metadata": {},
   "outputs": [
    {
     "data": {
      "text/plain": [
       "19.35718533390827"
      ]
     },
     "execution_count": 23,
     "metadata": {},
     "output_type": "execute_result"
    }
   ],
   "source": [
    "calorie_std = np.std(calorie_stats)\n",
    "calorie_std"
   ]
  },
  {
   "cell_type": "code",
   "execution_count": null,
   "id": "97da0761",
   "metadata": {},
   "outputs": [],
   "source": [
    "Так как мы знаем среднее значение (107) и стандартное отклонение (19), мы можем утверждать,\n",
    "что большинство значений находятся в интервале 107+-19, в результате чего мы можем сделать вывод,\n",
    "что калорийность наших хлопьев (60) значительно ниже большинства хлопьев на рынке."
   ]
  },
  {
   "cell_type": "markdown",
   "id": "037455c5",
   "metadata": {},
   "source": [
    "8. Напишите короткий абзац, в котором кратко изложите свои выводы и то, как, по вашему мнению, эти данные могут быть использованы в интересах Mycrunch при маркетинге CrunchieMunchies."
   ]
  },
  {
   "cell_type": "code",
   "execution_count": 167,
   "id": "c260fee9",
   "metadata": {},
   "outputs": [],
   "source": [
    "Имея все собранные данные мы можем смело утверждать, что калорийность хлопьев нашей компании не только меньше, \n",
    "чем у большинства других компаний, но также и значительно ниже чем у большинства конкурентов.\n",
    "Тем самым мы можем это использовать в своей реклманой кампании для того, чтобы показать насколько наши хлопья\n",
    "являются некалорийными и здоровыми на фоне остальных вариантов."
   ]
  }
 ],
 "metadata": {
  "kernelspec": {
   "display_name": "Python 3 (ipykernel)",
   "language": "python",
   "name": "python3"
  },
  "language_info": {
   "codemirror_mode": {
    "name": "ipython",
    "version": 3
   },
   "file_extension": ".py",
   "mimetype": "text/x-python",
   "name": "python",
   "nbconvert_exporter": "python",
   "pygments_lexer": "ipython3",
   "version": "3.8.10"
  }
 },
 "nbformat": 4,
 "nbformat_minor": 5
}
