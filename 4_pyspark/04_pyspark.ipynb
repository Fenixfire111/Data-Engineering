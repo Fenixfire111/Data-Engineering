{
 "cells": [
  {
   "cell_type": "code",
   "execution_count": 1,
   "id": "61805232",
   "metadata": {},
   "outputs": [],
   "source": [
    "from pyspark.sql import SparkSession, Window, functions as fun"
   ]
  },
  {
   "cell_type": "code",
   "execution_count": 2,
   "id": "ab02dca5",
   "metadata": {},
   "outputs": [
    {
     "name": "stdout",
     "output_type": "stream",
     "text": [
      "22/09/26 08:02:50 WARN Utils: Your hostname, fenixfire-IdeaPad-L340-15IRH-Gaming resolves to a loopback address: 127.0.1.1; using 192.168.0.85 instead (on interface wlp7s0)\n",
      "22/09/26 08:02:50 WARN Utils: Set SPARK_LOCAL_IP if you need to bind to another address\n",
      "22/09/26 08:02:51 WARN NativeCodeLoader: Unable to load native-hadoop library for your platform... using builtin-java classes where applicable\n"
     ]
    },
    {
     "name": "stderr",
     "output_type": "stream",
     "text": [
      "Setting default log level to \"WARN\".\n",
      "To adjust logging level use sc.setLogLevel(newLevel). For SparkR, use setLogLevel(newLevel).\n"
     ]
    }
   ],
   "source": [
    "spark = SparkSession.\\\n",
    "    builder.\\\n",
    "    appName(\"spaaaaaark\").\\\n",
    "    config(\"spark.jars\", \"postgresql-42.4.0.jar\").master(\"local\").\\\n",
    "    getOrCreate()"
   ]
  },
  {
   "cell_type": "code",
   "execution_count": 3,
   "id": "5dd86f1a",
   "metadata": {},
   "outputs": [],
   "source": [
    "df_reader = spark.read\\\n",
    "    .format(\"jdbc\")\\\n",
    "    .option(\"url\", \"jdbc:postgresql://localhost:5432/postgres\")\\\n",
    "    .option(\"user\", \"postgres\")\\\n",
    "    .option(\"password\", \"qwert5\")\\\n",
    "    .option(\"driver\", \"org.postgresql.Driver\")"
   ]
  },
  {
   "cell_type": "code",
   "execution_count": 4,
   "id": "e7732363",
   "metadata": {
    "scrolled": true
   },
   "outputs": [],
   "source": [
    "actor = df_reader.option('dbtable', 'actor').load()\n",
    "address = df_reader.option('dbtable', 'address').load()\n",
    "category = df_reader.option('dbtable', 'category').load()\n",
    "city = df_reader.option('dbtable', 'city').load()\n",
    "country = df_reader.option('dbtable', 'country').load()\n",
    "customer = df_reader.option('dbtable', 'customer').load()\n",
    "film = df_reader.option('dbtable', 'film').load()\n",
    "film_actor = df_reader.option('dbtable', 'film_actor').load()\n",
    "film_category = df_reader.option('dbtable', 'film_category').load()\n",
    "inventory = df_reader.option('dbtable', 'inventory').load()\n",
    "language = df_reader.option('dbtable', 'language').load()\n",
    "payment = df_reader.option('dbtable', 'payment').load()\n",
    "rental = df_reader.option('dbtable', 'rental').load()\n",
    "staff = df_reader.option('dbtable', 'staff').load()\n",
    "store = df_reader.option('dbtable', 'store').load()"
   ]
  },
  {
   "cell_type": "code",
   "execution_count": 7,
   "id": "14e523fe",
   "metadata": {},
   "outputs": [
    {
     "name": "stdout",
     "output_type": "stream",
     "text": [
      "+-----------+-----+\n",
      "|       name|count|\n",
      "+-----------+-----+\n",
      "|     Sports|   74|\n",
      "|    Foreign|   73|\n",
      "|     Family|   69|\n",
      "|Documentary|   68|\n",
      "|  Animation|   66|\n",
      "|     Action|   64|\n",
      "|        New|   63|\n",
      "|      Drama|   62|\n",
      "|      Games|   61|\n",
      "|     Sci-Fi|   61|\n",
      "|   Children|   60|\n",
      "|     Comedy|   58|\n",
      "|     Travel|   57|\n",
      "|   Classics|   57|\n",
      "|     Horror|   56|\n",
      "|      Music|   51|\n",
      "+-----------+-----+\n",
      "\n"
     ]
    }
   ],
   "source": [
    "# task 1\n",
    "\n",
    "category.join(film_category, on='category_id')\\\n",
    "    .groupBy('name')\\\n",
    "    .count()\\\n",
    "    .orderBy(fun.col('count').desc())\\\n",
    "    .show()\n"
   ]
  },
  {
   "cell_type": "code",
   "execution_count": 9,
   "id": "600ef275",
   "metadata": {},
   "outputs": [
    {
     "name": "stdout",
     "output_type": "stream",
     "text": [
      "+----------+---------+--------+\n",
      "|first_name|last_name|sum_rent|\n",
      "+----------+---------+--------+\n",
      "|     SUSAN|    DAVIS|     242|\n",
      "|      GINA|DEGENERES|     209|\n",
      "|    WALTER|     TORN|     201|\n",
      "|      MARY|   KEITEL|     192|\n",
      "|   MATTHEW|   CARREY|     190|\n",
      "|   GROUCHO|    DUNST|     183|\n",
      "|    ANGELA|   HUDSON|     183|\n",
      "|    SANDRA|   KILMER|     181|\n",
      "|     HENRY|    BERRY|     180|\n",
      "|       UMA|     WOOD|     179|\n",
      "+----------+---------+--------+\n",
      "only showing top 10 rows\n",
      "\n"
     ]
    }
   ],
   "source": [
    "# task 2\n",
    "\n",
    "actor.join(film_actor, on='actor_id')\\\n",
    "    .join(film, on='film_id')\\\n",
    "    .groupBy('first_name', 'last_name')\\\n",
    "    .agg(fun.sum('rental_duration').alias('sum_rent'))\\\n",
    "    .orderBy(fun.col('sum_rent').desc())\\\n",
    "    .show(10)"
   ]
  },
  {
   "cell_type": "code",
   "execution_count": 16,
   "id": "0c95f3bb",
   "metadata": {},
   "outputs": [
    {
     "name": "stdout",
     "output_type": "stream",
     "text": [
      "+------+---------+\n",
      "|  name|film_cost|\n",
      "+------+---------+\n",
      "|Sports|   231.26|\n",
      "+------+---------+\n",
      "only showing top 1 row\n",
      "\n"
     ]
    }
   ],
   "source": [
    "# task 3\n",
    "\n",
    "category.join(film_category, on='category_id')\\\n",
    "    .join(film, on='film_id')\\\n",
    "    .groupBy('name')\\\n",
    "    .agg(fun.sum('rental_rate').alias('film_cost'))\\\n",
    "    .orderBy(fun.col('film_cost').desc())\\\n",
    "    .show(1)"
   ]
  },
  {
   "cell_type": "code",
   "execution_count": 19,
   "id": "6e9bf807",
   "metadata": {},
   "outputs": [
    {
     "name": "stdout",
     "output_type": "stream",
     "text": [
      "+--------------------+\n",
      "|               title|\n",
      "+--------------------+\n",
      "|      ALICE FANTASIA|\n",
      "|         APOLLO TEEN|\n",
      "|      ARGONAUTS TOWN|\n",
      "|       ARK RIDGEMONT|\n",
      "|ARSENIC INDEPENDENCE|\n",
      "|   BOONDOCK BALLROOM|\n",
      "|       BUTCH PANTHER|\n",
      "|       CATCH AMISTAD|\n",
      "| CHINATOWN GLADIATOR|\n",
      "|      CHOCOLATE DUCK|\n",
      "|COMMANDMENTS EXPRESS|\n",
      "|    CROSSING DIVORCE|\n",
      "|     CROWDS TELEMARK|\n",
      "|    CRYSTAL BREAKING|\n",
      "|          DAZED PUNK|\n",
      "|DELIVERANCE MULHO...|\n",
      "|   FIREHOUSE VIETNAM|\n",
      "|       FLOATS GARDEN|\n",
      "|FRANKENSTEIN STRA...|\n",
      "|  GLADIATOR WESTWARD|\n",
      "+--------------------+\n",
      "only showing top 20 rows\n",
      "\n"
     ]
    }
   ],
   "source": [
    "# task 4\n",
    "\n",
    "film.join(inventory, on='film_id', how='left')\\\n",
    "    .groupby('film_id', 'title')\\\n",
    "    .agg(fun.count('inventory_id').alias('number'))\\\n",
    "    .filter(fun.col('number') == 0)\\\n",
    "    .select(fun.col('title'))\\\n",
    "    .orderBy('title')\\\n",
    "    .show()"
   ]
  },
  {
   "cell_type": "code",
   "execution_count": 22,
   "id": "9d967917",
   "metadata": {},
   "outputs": [
    {
     "name": "stdout",
     "output_type": "stream",
     "text": [
      "+----------+---------+-----+\n",
      "|first_name|last_name|count|\n",
      "+----------+---------+-----+\n",
      "|     HELEN|   VOIGHT|    7|\n",
      "|     SUSAN|    DAVIS|    6|\n",
      "|     KEVIN|  GARLAND|    5|\n",
      "|     RALPH|     CRUZ|    5|\n",
      "|      MARY|    TANDY|    5|\n",
      "|    WHOOPI|     HURT|    5|\n",
      "+----------+---------+-----+\n",
      "\n"
     ]
    }
   ],
   "source": [
    "# task 5\n",
    "\n",
    "temp_table = category.join(film_category, on='category_id')\\\n",
    "    .join(film, on='film_id')\\\n",
    "    .join(film_actor, on='film_id')\\\n",
    "    .join(actor, on='actor_id')\\\n",
    "    .where(fun.col('category_id') == '3')\\\n",
    "    .groupBy('first_name', 'last_name').count()\n",
    "\n",
    "count_filter = temp_table.select(fun.col('count'))\\\n",
    "    .orderBy(fun.col('count').desc())\\\n",
    "    .distinct()\\\n",
    "    .limit(3)\\\n",
    "    .rdd.map(lambda row : row[0]).collect()\n",
    "\n",
    "temp_table.filter(fun.col('count').isin(count_filter)).orderBy(fun.col('count').desc()).show()"
   ]
  },
  {
   "cell_type": "code",
   "execution_count": 24,
   "id": "801cbde6",
   "metadata": {},
   "outputs": [
    {
     "name": "stdout",
     "output_type": "stream",
     "text": [
      "+------------------+------+--------+\n",
      "|              city|active|inactive|\n",
      "+------------------+------+--------+\n",
      "|         Pingxiang|     0|       1|\n",
      "|       Szkesfehrvr|     0|       1|\n",
      "|  Charlotte Amalie|     0|       1|\n",
      "|         Najafabad|     0|       1|\n",
      "|           Wroclaw|     0|       1|\n",
      "|            Ktahya|     0|       1|\n",
      "|           Bat Yam|     0|       1|\n",
      "|   Southend-on-Sea|     0|       1|\n",
      "|            Amroha|     0|       1|\n",
      "|            Kamyin|     0|       1|\n",
      "|          Xiangfan|     0|       1|\n",
      "|            Daxian|     0|       1|\n",
      "|          Uluberia|     0|       1|\n",
      "|     Coatzacoalcos|     0|       1|\n",
      "|        Kumbakonam|     0|       1|\n",
      "|A Corua (La Corua)|     1|       0|\n",
      "|          Fengshan|     1|       0|\n",
      "|          Chisinau|     1|       0|\n",
      "|           Udaipur|     1|       0|\n",
      "|              Linz|     1|       0|\n",
      "+------------------+------+--------+\n",
      "only showing top 20 rows\n",
      "\n"
     ]
    }
   ],
   "source": [
    "# task 6\n",
    "\n",
    "city.join(address, on='city_id')\\\n",
    "    .join(customer, on='address_id')\\\n",
    "    .groupBy('city')\\\n",
    "    .agg(fun.sum(fun.when(customer.active == 1, 1).otherwise(0)).alias('active'),\n",
    "        fun.sum(fun.when(customer.active == 0, 1).otherwise(0)).alias('inactive'))\\\n",
    "    .orderBy(fun.col('inactive').desc())\\\n",
    "    .show()"
   ]
  },
  {
   "cell_type": "code",
   "execution_count": 32,
   "id": "5bffc90e",
   "metadata": {},
   "outputs": [
    {
     "name": "stdout",
     "output_type": "stream",
     "text": [
      "+--------------------+--------------------+\n",
      "|                city|          rental_sum|\n",
      "+--------------------+--------------------+\n",
      "|           al-Hawiya|INTERVAL '79 03:1...|\n",
      "|            al-Qatif|INTERVAL '119 16:...|\n",
      "|          al-Qadarif|INTERVAL '69 05:1...|\n",
      "|              al-Ayn|INTERVAL '124 12:...|\n",
      "|           al-Manama|INTERVAL '126 22:...|\n",
      "|     Jastrzebie-Zdrj|INTERVAL '155 16:...|\n",
      "|    Shubra al-Khayma|INTERVAL '179 05:...|\n",
      "|   Uttarpara-Kotrung|INTERVAL '139 00:...|\n",
      "|Donostia-San Seba...|INTERVAL '175 00:...|\n",
      "|      Kirovo-Tepetsk|INTERVAL '144 05:...|\n",
      "| Kamjanets-Podilskyi|INTERVAL '153 15:...|\n",
      "|        Shahr-e Kord|INTERVAL '100 17:...|\n",
      "|       Hubli-Dharwad|INTERVAL '76 00:2...|\n",
      "|Augusta-Richmond ...|INTERVAL '127 04:...|\n",
      "|        Effon-Alaiye|INTERVAL '153 10:...|\n",
      "|           al-Hawiya|INTERVAL '79 03:1...|\n",
      "|      Tel Aviv-Jaffa|INTERVAL '127 13:...|\n",
      "|    Jalib al-Shuyukh|INTERVAL '134 06:...|\n",
      "|           Lapu-Lapu|INTERVAL '173 08:...|\n",
      "|     s-Hertogenbosch|INTERVAL '111 18:...|\n",
      "+--------------------+--------------------+\n",
      "only showing top 20 rows\n",
      "\n"
     ]
    }
   ],
   "source": [
    "# task 7\n",
    "\n",
    "table_1 = rental.join(customer, on='customer_id')\\\n",
    "    .join(address, on='address_id')\\\n",
    "    .join(city, on='city_id')\\\n",
    "    .where(fun.substring(fun.col(\"city\"), 1, 1) == 'a')\\\n",
    "    .groupBy(\"city\")\\\n",
    "    .agg(fun.sum(fun.col(\"return_date\")-fun.col(\"rental_date\")).alias(\"rental_sum\"))\\\n",
    "    .select(\"city\", \"rental_sum\")\n",
    "\n",
    "table_2 = rental.join(customer, on='customer_id')\\\n",
    "    .join(address, on='address_id')\\\n",
    "    .join(city, on='city_id')\\\n",
    "    .where(fun.locate('-', fun.col(\"city\")) > 0)\\\n",
    "    .groupBy(\"city\")\\\n",
    "    .agg(fun.sum(fun.col(\"return_date\")-fun.col(\"rental_date\")).alias(\"rental_sum\"))\\\n",
    "    .select(\"city\", \"rental_sum\")\n",
    "\n",
    "table_1.union(table_2).show()"
   ]
  }
 ],
 "metadata": {
  "kernelspec": {
   "display_name": "Python 3 (ipykernel)",
   "language": "python",
   "name": "python3"
  },
  "language_info": {
   "codemirror_mode": {
    "name": "ipython",
    "version": 3
   },
   "file_extension": ".py",
   "mimetype": "text/x-python",
   "name": "python",
   "nbconvert_exporter": "python",
   "pygments_lexer": "ipython3",
   "version": "3.8.10"
  }
 },
 "nbformat": 4,
 "nbformat_minor": 5
}
